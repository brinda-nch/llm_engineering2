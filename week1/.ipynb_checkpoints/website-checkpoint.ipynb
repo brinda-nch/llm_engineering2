{
 "cells": [
  {
   "cell_type": "code",
   "execution_count": 5,
   "id": "f8d6bcea-c6ec-4d21-b43c-1c7346a0d09b",
   "metadata": {
    "editable": true,
    "slideshow": {
     "slide_type": ""
    },
    "tags": []
   },
   "outputs": [
    {
     "name": "stdin",
     "output_type": "stream",
     "text": [
      "Enter a website to analyze:  https://www.google.com/\n"
     ]
    },
    {
     "name": "stdout",
     "output_type": "stream",
     "text": [
      "It seems you've shared a link to Google's homepage. How can I assist you with Google or any other inquiry you might have?\n"
     ]
    }
   ],
   "source": [
    "# Install external libraries (Unnecessary in some environments like Colab/Jupyter)\n",
    "!pip install bs4 requests python-dotenv --quiet\n",
    "!pip install --upgrade openai --quiet\n",
    "\n",
    "# Import libraries\n",
    "import os\n",
    "import openai\n",
    "import requests\n",
    "from bs4 import BeautifulSoup\n",
    "from dotenv import load_dotenv\n",
    "\n",
    "# Load environment variables\n",
    "load_dotenv()\n",
    "\n",
    "# Get OpenAI API key\n",
    "api_key = os.getenv(\"OPENAI_API_KEY\")  # Use `os.getenv()` to avoid KeyError\n",
    "\n",
    "if not api_key:\n",
    "    print(\"No API key found in environment variables.\")\n",
    "else:\n",
    "    client = openai.OpenAI(api_key=api_key)  # Correct initialization\n",
    "\n",
    "# Asking user input\n",
    "message = input(\"Enter a website to analyze: \")\n",
    "\n",
    "# Try block for troubleshooting\n",
    "try:\n",
    "    response = client.chat.completions.create(\n",
    "        model=\"gpt-4o\",\n",
    "        messages=[{\"role\": \"user\", \"content\": message}]\n",
    "    )\n",
    "    print(response.choices[0].message.content)\n",
    "except openai.OpenAIError as e:\n",
    "    print(f\"OpenAI API Error: {e}\")\n",
    "except Exception as e:\n",
    "    print(f\"Unexpected Error: {e}\")"
   ]
  },
  {
   "cell_type": "code",
   "execution_count": 6,
   "id": "c11822cb-ab4a-4fd7-99eb-5739732d82d7",
   "metadata": {},
   "outputs": [
    {
     "ename": "SyntaxError",
     "evalue": "invalid syntax (3737595185.py, line 19)",
     "output_type": "error",
     "traceback": [
      "\u001b[0;36m  Cell \u001b[0;32mIn[6], line 19\u001b[0;36m\u001b[0m\n\u001b[0;31m    if soup.title else \"No title found\"\u001b[0m\n\u001b[0m                  ^\u001b[0m\n\u001b[0;31mSyntaxError\u001b[0m\u001b[0;31m:\u001b[0m invalid syntax\n"
     ]
    }
   ],
   "source": [
    "# code website test\n",
    "import requests\n",
    "from bs4 import BeautifulSoup\n",
    "# create a class\n",
    "# class:In Python, a class serves as a blueprint for creating objects. It has the data and functions that operate\n",
    "class Website:\n",
    "    def __init__(self,url):\n",
    "        url=input('enter a website url:')\n",
    "        self.url= url #store the url\n",
    "        try:\n",
    "            response = requests.get(url, headers=headers, timeout=10)  # Set timeout to avoid hanging\n",
    "        except requests.exceptions.RequestException as e:\n",
    "            print(f\"Error fetching {url}: {e}\")\n",
    "            return\n",
    "            #parse the page\n",
    "            soup = BeautifulSoup(response.content, 'html.parser')\n",
    "            #Extract the title\n",
    "        self.title = soup.title.string \n",
    "        if soup.title: else \"No title found\"\n",
    "        print(f\"Page title: {self.title}\")\n",
    "        # Remove unnecessary elements (scripts, styles, images, inputs)\n",
    "        if soup.body:\n",
    "            for irrelevant in soup.body([\"script\", \"style\", \"img\", \"input\"]):\n",
    "                irrelevant.decompose()\n",
    "            self.text = soup.body.get_text(separator=\"\\n\", strip=True)\n",
    "        else:\n",
    "            self.text = \"No content available\"\n",
    "\n",
    "    def __repr__(self):\n",
    "        return f\"Website(title='{self.title}', url='{self.url}')\""
   ]
  },
  {
   "cell_type": "code",
   "execution_count": null,
   "id": "62bd34ef-2a67-423c-9bdf-11dbb5e609bb",
   "metadata": {},
   "outputs": [],
   "source": [
    "#test ai code\n",
    "ed=input('enter the url here:')\n",
    "print(\"\\nExtracted Title:\")\n",
    "print(ed.title)\n",
    "\n",
    "print(\"\\nExtracted Text (First 500 characters):\")\n",
    "print(ed.text[:500])"
   ]
  }
 ],
 "metadata": {
  "kernelspec": {
   "display_name": "Python 3 (ipykernel)",
   "language": "python",
   "name": "python3"
  },
  "language_info": {
   "codemirror_mode": {
    "name": "ipython",
    "version": 3
   },
   "file_extension": ".py",
   "mimetype": "text/x-python",
   "name": "python",
   "nbconvert_exporter": "python",
   "pygments_lexer": "ipython3",
   "version": "3.11.11"
  }
 },
 "nbformat": 4,
 "nbformat_minor": 5
}
