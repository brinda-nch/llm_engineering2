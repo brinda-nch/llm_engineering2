{
 "cells": [
  {
   "cell_type": "code",
   "execution_count": 2,
   "id": "c60fc7c3-ebcd-4743-adee-9ed4cb22cd97",
   "metadata": {},
   "outputs": [
    {
     "name": "stdin",
     "output_type": "stream",
     "text": [
      "What health concern would you like to clarify today: why cant men digest as much cholestrol as women\n"
     ]
    },
    {
     "data": {
      "text/html": [
       "<pre style=\"white-space:pre;overflow-x:auto;line-height:normal;font-family:Menlo,'DejaVu Sans Mono',consolas,'Courier New',monospace\">The ability to digest and metabolize cholesterol can vary between individuals and is influenced by several factors,\n",
       "including genetics, diet, lifestyle, and hormonal differences, rather than being strictly determined by gender.    \n",
       "\n",
       "Men and women may process cholesterol differently due to hormonal differences. For example, estrogen, which is more\n",
       "prevalent in women, can have a positive effect on cholesterol metabolism and may help to raise high-density        \n",
       "lipoprotein (HDL) cholesterol, often referred to as “good” cholesterol. This can lead to a lower risk of heart     \n",
       "disease in premenopausal women compared to men of similar ages.                                                    \n",
       "\n",
       "Additionally, dietary choices and nutritional habits can also lead to differences in cholesterol digestion.        \n",
       "Lifestyle factors such as exercise, smoking, and body weight play significant roles as well.                       \n",
       "\n",
       "In general, cardiovascular health and cholesterol metabolism are complex issues that can vary widely from person to\n",
       "person, regardless of gender. It's important for individuals to monitor their cholesterol levels and consult with  \n",
       "healthcare providers for personalized health advice.                                                               \n",
       "</pre>\n"
      ],
      "text/plain": [
       "The ability to digest and metabolize cholesterol can vary between individuals and is influenced by several factors,\n",
       "including genetics, diet, lifestyle, and hormonal differences, rather than being strictly determined by gender.    \n",
       "\n",
       "Men and women may process cholesterol differently due to hormonal differences. For example, estrogen, which is more\n",
       "prevalent in women, can have a positive effect on cholesterol metabolism and may help to raise high-density        \n",
       "lipoprotein (HDL) cholesterol, often referred to as “good” cholesterol. This can lead to a lower risk of heart     \n",
       "disease in premenopausal women compared to men of similar ages.                                                    \n",
       "\n",
       "Additionally, dietary choices and nutritional habits can also lead to differences in cholesterol digestion.        \n",
       "Lifestyle factors such as exercise, smoking, and body weight play significant roles as well.                       \n",
       "\n",
       "In general, cardiovascular health and cholesterol metabolism are complex issues that can vary widely from person to\n",
       "person, regardless of gender. It's important for individuals to monitor their cholesterol levels and consult with  \n",
       "healthcare providers for personalized health advice.                                                               \n"
      ]
     },
     "metadata": {},
     "output_type": "display_data"
    }
   ],
   "source": [
    "# Import necessary libraries\n",
    "import dotenv\n",
    "from dotenv import load_dotenv\n",
    "import openai\n",
    "import os\n",
    "import rich\n",
    "from rich.console import Console\n",
    "from rich.markdown import Markdown\n",
    "\n",
    "console=Console()\n",
    "# Load API key from environment variables\n",
    "load_dotenv()\n",
    "api_key = os.getenv(\"OPENAI_API_KEY\")\n",
    "\n",
    "# Set up OpenAI client\n",
    "health = openai.OpenAI(api_key=api_key)\n",
    "\n",
    "# Define system prompt\n",
    "system_prompt = (\n",
    "    \"You are an AI healthcare agent. Someone will tell you how they feel/symptoms, \"\n",
    "    \"and you will come up with possible health issues/diagnosis. If someone asks for \"\n",
    "    \"information on a specific condition, you will give them symptoms, diagnosis methods, \"\n",
    "    \"and possible treatments. Use factual information and medical language but make it \"\n",
    "    \"understandable for a general audience.\"\n",
    ")\n",
    "\n",
    "# Get user input\n",
    "user_prompt = input('What health concern would you like to clarify today:')\n",
    "\n",
    "# Construct messages\n",
    "messages = [\n",
    "    {\"role\": \"system\", \"content\": system_prompt},\n",
    "    {\"role\": \"user\", \"content\": user_prompt},\n",
    "]\n",
    "\n",
    "# Make API call\n",
    "response = health.chat.completions.create(\n",
    "    model=\"gpt-4o-mini\",\n",
    "    messages=messages\n",
    ")\n",
    "\n",
    "# Extract and print response\n",
    "diagnosis = response.choices[0].message.content\n",
    "clean=Markdown(diagnosis)\n",
    "console.print(clean)"
   ]
  },
  {
   "cell_type": "code",
   "execution_count": null,
   "id": "5d69fa3b-51be-46a8-9572-50b30ccb9e4d",
   "metadata": {},
   "outputs": [],
   "source": []
  }
 ],
 "metadata": {
  "kernelspec": {
   "display_name": "Python 3 (ipykernel)",
   "language": "python",
   "name": "python3"
  },
  "language_info": {
   "codemirror_mode": {
    "name": "ipython",
    "version": 3
   },
   "file_extension": ".py",
   "mimetype": "text/x-python",
   "name": "python",
   "nbconvert_exporter": "python",
   "pygments_lexer": "ipython3",
   "version": "3.11.11"
  }
 },
 "nbformat": 4,
 "nbformat_minor": 5
}
