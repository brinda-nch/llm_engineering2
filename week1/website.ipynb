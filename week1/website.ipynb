{
 "cells": [
  {
   "cell_type": "code",
   "execution_count": 5,
   "id": "f8d6bcea-c6ec-4d21-b43c-1c7346a0d09b",
   "metadata": {
    "editable": true,
    "slideshow": {
     "slide_type": ""
    },
    "tags": []
   },
   "outputs": [
    {
     "name": "stdin",
     "output_type": "stream",
     "text": [
      "Enter a website to analyze:  https://www.google.com/\n"
     ]
    },
    {
     "name": "stdout",
     "output_type": "stream",
     "text": [
      "It seems you've shared a link to Google's homepage. How can I assist you with Google or any other inquiry you might have?\n"
     ]
    }
   ],
   "source": [
    "# Install external libraries (Unnecessary in some environments like Colab/Jupyter)\n",
    "!pip install bs4 requests python-dotenv --quiet\n",
    "!pip install --upgrade openai --quiet\n",
    "\n",
    "# Import libraries\n",
    "import os\n",
    "import openai\n",
    "import requests\n",
    "from bs4 import BeautifulSoup\n",
    "from dotenv import load_dotenv\n",
    "\n",
    "# Load environment variables\n",
    "load_dotenv()\n",
    "\n",
    "# Get OpenAI API key\n",
    "api_key = os.getenv(\"OPENAI_API_KEY\")  # Use `os.getenv()` to avoid KeyError\n",
    "\n",
    "if not api_key:\n",
    "    print(\"No API key found in environment variables.\")\n",
    "else:\n",
    "    client = openai.OpenAI(api_key=api_key)  # Correct initialization\n",
    "\n",
    "# Asking user input\n",
    "message = input(\"Enter a website to analyze: \")\n",
    "\n",
    "# Try block for troubleshooting\n",
    "try:\n",
    "    response = client.chat.completions.create(\n",
    "        model=\"gpt-4o\",\n",
    "        messages=[{\"role\": \"user\", \"content\": message}]\n",
    "    )\n",
    "    print(response.choices[0].message.content)\n",
    "except openai.OpenAIError as e:\n",
    "    print(f\"OpenAI API Error: {e}\")\n",
    "except Exception as e:\n",
    "    print(f\"Unexpected Error: {e}\")"
   ]
  },
  {
   "cell_type": "code",
   "execution_count": 12,
   "id": "c11822cb-ab4a-4fd7-99eb-5739732d82d7",
   "metadata": {},
   "outputs": [
    {
     "name": "stdin",
     "output_type": "stream",
     "text": [
      "Enter the URL here:  https://www.google.com/\n"
     ]
    },
    {
     "name": "stdout",
     "output_type": "stream",
     "text": [
      "Fetching website: https://www.google.com/\n",
      "Parsing HTML content...\n",
      "Page title: Google\n",
      "Cleaning page content...\n",
      "\n",
      "Extracted Title:\n",
      "Google\n",
      "\n",
      "Extracted Text (First 500 characters):\n",
      "About\n",
      "Store\n",
      "Gmail\n",
      "Images\n",
      "Sign in\n",
      "See more\n",
      "Delete\n",
      "Delete\n",
      "Report inappropriate predictions\n",
      "Advertising\n",
      "Business\n",
      "How Search works\n",
      "Our third decade of climate action: join us\n",
      "Privacy\n",
      "Terms\n",
      "Settings\n",
      "Search settings\n",
      "Advanced search\n",
      "Your data in Search\n",
      "Search history\n",
      "Search help\n",
      "Send feedback\n",
      "Dark theme: Off\n",
      "Google apps\n"
     ]
    }
   ],
   "source": [
    "import requests\n",
    "from bs4 import BeautifulSoup\n",
    "\n",
    "# Some websites require headers to allow fetching:\n",
    "headers = {\n",
    "    \"User-Agent\": \"Mozilla/5.0 (Windows NT 10.0; Win64; x64) AppleWebKit/537.36 (KHTML, like Gecko) Chrome/117.0.0.0 Safari/537.36\"\n",
    "}\n",
    "\n",
    "class Website:\n",
    "    def __init__(self, url):\n",
    "        \"\"\"\n",
    "        Create this Website object from the given URL using the BeautifulSoup library.\n",
    "        Extracts the title and main text while removing unnecessary elements.\n",
    "        \"\"\"\n",
    "        self.url = url\n",
    "        self.title = \"No title found\"  # Default title if request fails\n",
    "        self.text = \"No content available\"  # Default text if request fails\n",
    "\n",
    "        try:\n",
    "            print(f\"Fetching website: {url}\")\n",
    "            response = requests.get(url, headers=headers, timeout=10)\n",
    "            response.raise_for_status()  # Raise HTTPError for bad responses\n",
    "            \n",
    "            # Parse the page\n",
    "            print(\"Parsing HTML content...\")\n",
    "            soup = BeautifulSoup(response.content, 'html.parser')\n",
    "\n",
    "            # Extract the title\n",
    "            if soup.title:\n",
    "                self.title = soup.title.string\n",
    "                print(f\"Page title: {self.title}\")\n",
    "\n",
    "            # Remove unnecessary elements (scripts, styles, images, inputs)\n",
    "            if soup.body:\n",
    "                print(\"Cleaning page content...\")\n",
    "                for irrelevant in soup.body([\"script\", \"style\", \"img\", \"input\"]):\n",
    "                    irrelevant.decompose()\n",
    "                self.text = soup.body.get_text(separator=\"\\n\", strip=True)\n",
    "\n",
    "        except requests.exceptions.RequestException as e:\n",
    "            print(f\"Error fetching {url}: {e}\")\n",
    "            self.title = \"Error\"\n",
    "            self.text = \"\"\n",
    "\n",
    "    def __repr__(self):\n",
    "        return f\"Website(title='{self.title}', url='{self.url}')\"\n",
    "\n",
    "# Test AI code\n",
    "url = input('Enter the URL here: ')  # Get URL input from the user\n",
    "\n",
    "# Create a Website object using the provided URL\n",
    "oai = Website(url)\n",
    "\n",
    "# Display extracted content\n",
    "print(\"\\nExtracted Title:\")\n",
    "print(oai.title)\n",
    "\n",
    "print(\"\\nExtracted Text (First 500 characters):\")\n",
    "print(oai.text[:500])  # Print only the first 500 characters of extracted text"
   ]
  },
  {
   "cell_type": "code",
   "execution_count": 14,
   "id": "f8603032-18e4-4b96-8d96-5a637c06b2a2",
   "metadata": {},
   "outputs": [
    {
     "name": "stdin",
     "output_type": "stream",
     "text": [
      "Enter the URL here:  https://www.google.com/\n"
     ]
    },
    {
     "name": "stdout",
     "output_type": "stream",
     "text": [
      "Fetching website: https://www.google.com/\n",
      "Parsing HTML content...\n",
      "Page title: Google\n",
      "Cleaning page content...\n",
      "\n",
      "Generated User Prompt:\n",
      "You are looking at a website titled Google.\n",
      "\n",
      "    The contents of this website are as follows; please provide a short summary of this website in markdown.\n",
      "    If it includes news or announcements, then summarize these too.\n",
      "\n",
      "    About\n",
      "Store\n",
      "Gmail\n",
      "Images\n",
      "Sign in\n",
      "See more\n",
      "Delete\n",
      "Delete\n",
      "Report inappropriate predictions\n",
      "Advertising\n",
      "Business\n",
      "How Search works\n",
      "Our third decade of climate action: join us\n",
      "Privacy\n",
      "Terms\n",
      "Settings\n",
      "Search settings\n",
      "Advanced search\n",
      "Your data in Search\n",
      "Search history\n",
      "Search help\n",
      "Send feedback\n",
      "Dark theme: Off\n",
      "Google apps\n",
      "    \n"
     ]
    }
   ],
   "source": [
    "#system and user message prompts\n",
    "#system prompt:\n",
    "system_prompt='you are a nice helpful assistant that analyzes a website with a given URL by the user. Ignore navigation \\\n",
    "related materials and focus on giving informative information about the website, providing a short summary.'\n",
    "#user prompt needs a function:\n",
    "def user_prompt_for(website):\n",
    "    user_prompt = f\"\"\"You are looking at a website titled {website.title}.\n",
    "\n",
    "    The contents of this website are as follows; please provide a short summary of this website in markdown.\n",
    "    If it includes news or announcements, then summarize these too.\n",
    "\n",
    "    {website.text}\n",
    "    \"\"\"\n",
    "    return user_prompt\n",
    "\n",
    "# Testing the code\n",
    "url = input('Enter the URL here: ')\n",
    "oai = Website(url)  # Creating a Website object\n",
    "\n",
    "print(\"\\nGenerated User Prompt:\")\n",
    "print(user_prompt_for(oai))  # Printing the generated prompt\n"
   ]
  },
  {
   "cell_type": "code",
   "execution_count": 19,
   "id": "9b80db95-eb52-464e-8ed9-e39dea69f93f",
   "metadata": {},
   "outputs": [
    {
     "name": "stdout",
     "output_type": "stream",
     "text": [
      "Fetching website: https://edwarddonner.com\n"
     ]
    },
    {
     "data": {
      "text/markdown": [
       "# Summary of Edward Donner's Website\n",
       "\n",
       "Edward Donner is a software developer and AI enthusiast who enjoys experimenting with large language models (LLMs). He is the co-founder and CTO of Nebula.io, a company focused on utilizing AI to help individuals discover their potential and manage talent effectively. Donner has a background in AI startups, previously founding untapt, which was acquired in 2021.\n",
       "\n",
       "## Recent News and Announcements\n",
       "- **January 23, 2025**: Published resources for an LLM Workshop focused on hands-on experience with agents.\n",
       "- **December 21, 2024**: Welcomed new members to the SuperDataScientists community.\n",
       "- **November 13, 2024**: Released resources for \"Mastering AI and LLM Engineering.\"\n",
       "- **October 16, 2024**: Shared resources for transitioning from a Software Engineer to an AI Data Scientist. \n",
       "\n",
       "Donner also expresses personal interests in DJing and electronic music production, although he humorously admits to being out of practice."
      ],
      "text/plain": [
       "<IPython.core.display.Markdown object>"
      ]
     },
     "metadata": {},
     "output_type": "display_data"
    }
   ],
   "source": [
    "import requests\n",
    "import openai\n",
    "import os\n",
    "from bs4 import BeautifulSoup\n",
    "from IPython.display import display, Markdown\n",
    "from dotenv import load_dotenv  # Load environment variables\n",
    "\n",
    "# Load environment variables\n",
    "load_dotenv()\n",
    "\n",
    "# Initialize OpenAI API client with API key from environment variable\n",
    "api_key = os.getenv(\"OPENAI_API_KEY\")  # Use environment variable\n",
    "if not api_key:\n",
    "    raise ValueError(\"OPENAI_API_KEY not found. Please set it in your environment variables.\")\n",
    "\n",
    "client = openai.OpenAI(api_key=api_key)\n",
    "\n",
    "# Headers for web scraping\n",
    "headers = {\n",
    "    \"User-Agent\": \"Mozilla/5.0 (Windows NT 10.0; Win64; x64) AppleWebKit/537.36 (KHTML, like Gecko) Chrome/117.0.0.0 Safari/537.36\"\n",
    "}\n",
    "\n",
    "# Website Class\n",
    "class Website:\n",
    "    def __init__(self, url):\n",
    "        self.url = url\n",
    "        self.title = \"No title found\"\n",
    "        self.text = \"No content available\"\n",
    "\n",
    "        try:\n",
    "            print(f\"Fetching website: {url}\")\n",
    "            response = requests.get(url, headers=headers, timeout=10)\n",
    "            response.raise_for_status()\n",
    "            \n",
    "            soup = BeautifulSoup(response.content, 'html.parser')\n",
    "            self.title = soup.title.string if soup.title else \"No title found\"\n",
    "\n",
    "            if soup.body:\n",
    "                for irrelevant in soup.body([\"script\", \"style\", \"img\", \"input\"]):\n",
    "                    irrelevant.decompose()\n",
    "                self.text = soup.body.get_text(separator=\"\\n\", strip=True)\n",
    "        except requests.exceptions.RequestException as e:\n",
    "            print(f\"Error fetching {url}: {e}\")\n",
    "            self.title = \"Error\"\n",
    "            self.text = \"\"\n",
    "\n",
    "# System Prompt\n",
    "system_prompt = \"You are an assistant that analyzes the contents of a website and provides a short summary, ignoring text that might be navigation related. Respond in markdown.\"\n",
    "\n",
    "# Function to generate messages for OpenAI API\n",
    "def messages_for(website):\n",
    "    return [\n",
    "        {\"role\": \"system\", \"content\": system_prompt},\n",
    "        {\"role\": \"user\", \"content\": user_prompt_for(website)}\n",
    "    ]\n",
    "\n",
    "# Function to create user prompt\n",
    "def user_prompt_for(website):\n",
    "    return f\"\"\"You are looking at a website titled {website.title}.\n",
    "\n",
    "The contents of this website are as follows; please provide a short summary of this website in markdown.\n",
    "If it includes news or announcements, then summarize these too.\n",
    "\n",
    "{website.text}\n",
    "\"\"\"\n",
    "\n",
    "# Function to call OpenAI API and summarize the webpage\n",
    "def summarize(url):\n",
    "    website = Website(url)  # Create Website object\n",
    "    \n",
    "    try:\n",
    "        response = client.chat.completions.create(\n",
    "            model=\"gpt-4o-mini\",\n",
    "            messages=messages_for(website)  # Generate prompt messages\n",
    "        )\n",
    "        return response.choices[0].message.content  # Extract response content\n",
    "    except openai.OpenAIError as e:\n",
    "        return f\"OpenAI API Error: {e}\"\n",
    "\n",
    "# Function to display the summary in Markdown format\n",
    "def display_summary(url):\n",
    "    summary = summarize(url)\n",
    "    display(Markdown(summary))  # Correct usage of Markdown\n",
    "\n",
    "# Test the function with a website\n",
    "display_summary(\"https://edwarddonner.com\")"
   ]
  },
  {
   "cell_type": "code",
   "execution_count": 25,
   "id": "8a20bdae-bdc1-419b-a26f-e0cd17ed0787",
   "metadata": {},
   "outputs": [
    {
     "name": "stdin",
     "output_type": "stream",
     "text": [
      "Enter website URL:  https://www.amazon.com/\n"
     ]
    },
    {
     "name": "stdout",
     "output_type": "stream",
     "text": [
      "Fetching website: https://www.amazon.com/\n"
     ]
    },
    {
     "data": {
      "text/markdown": [
       "# Amazon.com Summary\n",
       "\n",
       "Amazon.com is a comprehensive e-commerce platform where users can purchase a wide range of products, including books, electronics, clothing, and household items. The site provides a user-friendly interface for shopping, with options for searching, filtering, and comparing products.\n",
       "\n",
       "## Key Features\n",
       "- Extensive product categories\n",
       "- User reviews and ratings\n",
       "- Personalized recommendations\n",
       "- Options for fast and convenient shipping\n",
       "\n",
       "## Notes\n",
       "No specific news or announcements are provided in the content. \n",
       "\n",
       "## Additional Information\n",
       "The website also emphasizes the importance of privacy and user agreement policies, ensuring that users are aware of their rights and responsibilities while using the platform."
      ],
      "text/plain": [
       "<IPython.core.display.Markdown object>"
      ]
     },
     "metadata": {},
     "output_type": "display_data"
    }
   ],
   "source": [
    "baka = input('Enter website URL: ')  # Get URL as a string\n",
    "display_summary(baka)  # Pass the URL string, NOT a Website object"
   ]
  },
  {
   "cell_type": "code",
   "execution_count": null,
   "id": "d63bbcf2-6d4c-493e-a140-bd76afb30ea5",
   "metadata": {},
   "outputs": [],
   "source": []
  }
 ],
 "metadata": {
  "kernelspec": {
   "display_name": "Python 3 (ipykernel)",
   "language": "python",
   "name": "python3"
  },
  "language_info": {
   "codemirror_mode": {
    "name": "ipython",
    "version": 3
   },
   "file_extension": ".py",
   "mimetype": "text/x-python",
   "name": "python",
   "nbconvert_exporter": "python",
   "pygments_lexer": "ipython3",
   "version": "3.11.11"
  }
 },
 "nbformat": 4,
 "nbformat_minor": 5
}
