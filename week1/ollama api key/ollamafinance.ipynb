{
 "cells": [
  {
   "cell_type": "code",
   "execution_count": 2,
   "id": "42050802-cd35-4d7a-8c44-ef2519cdcd9d",
   "metadata": {},
   "outputs": [
    {
     "name": "stderr",
     "output_type": "stream",
     "text": [
      "Python-dotenv could not parse statement starting at line 6\n",
      "Python-dotenv could not parse statement starting at line 7\n",
      "Python-dotenv could not parse statement starting at line 10\n"
     ]
    },
    {
     "name": "stdout",
     "output_type": "stream",
     "text": [
      "* Running on local URL:  http://127.0.0.1:7861\n",
      "\n",
      "To create a public link, set `share=True` in `launch()`.\n"
     ]
    },
    {
     "data": {
      "text/html": [
       "<div><iframe src=\"http://127.0.0.1:7861/\" width=\"100%\" height=\"500\" allow=\"autoplay; camera; microphone; clipboard-read; clipboard-write;\" frameborder=\"0\" allowfullscreen></iframe></div>"
      ],
      "text/plain": [
       "<IPython.core.display.HTML object>"
      ]
     },
     "metadata": {},
     "output_type": "display_data"
    },
    {
     "data": {
      "text/plain": []
     },
     "execution_count": 2,
     "metadata": {},
     "output_type": "execute_result"
    }
   ],
   "source": [
    "import dotenv\n",
    "import gradio as gr\n",
    "import json\n",
    "import os\n",
    "import requests\n",
    "import subprocess\n",
    "from dotenv import load_dotenv\n",
    "from rich.console import Console\n",
    "from rich.markdown import Markdown\n",
    "\n",
    "# Load environment variables\n",
    "load_dotenv()\n",
    "\n",
    "# Ensure Ollama model is pulled\n",
    "subprocess.run([\"ollama\", \"pull\", \"llama3.2\"], check=True)\n",
    "\n",
    "# API Configuration\n",
    "OLLAMA_API = \"http://localhost:11434/api/chat\"\n",
    "HEADERS = {\"Content-Type\": \"application/json\"}\n",
    "MODEL = \"llama3.2\"\n",
    "\n",
    "# Rich console for beautified output\n",
    "console = Console()\n",
    "\n",
    "# System message defining the role of the AI agent\n",
    "system_message = (\n",
    "    \"You are a financial support agent. You have the qualities of a financial planner \"\n",
    "    \"and will use the given information to assist users financially, including budgeting, \"\n",
    "    \"accounting, planning their spending, financial solutions, and advice.\"\n",
    ")\n",
    "\n",
    "# Define chat function\n",
    "def guide(message, history):\n",
    "    messages = [\n",
    "        {\"role\": \"system\", \"content\": system_message},\n",
    "        {\"role\": \"user\", \"content\": message}\n",
    "    ]\n",
    "    \n",
    "    # Make API request to Ollama\n",
    "    payload = {\n",
    "        \"model\": MODEL,\n",
    "        \"messages\": messages,\n",
    "        \"stream\": False\n",
    "    }\n",
    "    \n",
    "    try:\n",
    "        response = requests.post(OLLAMA_API, headers=HEADERS, json=payload)\n",
    "        response.raise_for_status()  # Raise error for bad status codes\n",
    "        response_data = response.json()\n",
    "        \n",
    "        # Extract the AI's response\n",
    "        if \"message\" in response_data:\n",
    "            return response_data[\"message\"]\n",
    "        elif \"messages\" in response_data:\n",
    "            return response_data[\"messages\"][-1][\"content\"]\n",
    "        else:\n",
    "            return \"Unexpected response format from the API.\"\n",
    "\n",
    "    except requests.exceptions.RequestException as e:\n",
    "        return f\"API request error: {e}\"\n",
    "\n",
    "# Launch Gradio Chat Interface\n",
    "gr.ChatInterface(guide).launch()\n"
   ]
  },
  {
   "cell_type": "code",
   "execution_count": null,
   "id": "f8181ae9-54e7-400d-9578-0daf2d273427",
   "metadata": {},
   "outputs": [],
   "source": []
  },
  {
   "cell_type": "code",
   "execution_count": null,
   "id": "9833737f-c16e-42d0-9ec7-b7ec5219f29f",
   "metadata": {},
   "outputs": [],
   "source": []
  },
  {
   "cell_type": "code",
   "execution_count": null,
   "id": "2e9b859e-8db7-4353-b39c-7977b552678d",
   "metadata": {},
   "outputs": [],
   "source": []
  }
 ],
 "metadata": {
  "kernelspec": {
   "display_name": "Python 3 (ipykernel)",
   "language": "python",
   "name": "python3"
  },
  "language_info": {
   "codemirror_mode": {
    "name": "ipython",
    "version": 3
   },
   "file_extension": ".py",
   "mimetype": "text/x-python",
   "name": "python",
   "nbconvert_exporter": "python",
   "pygments_lexer": "ipython3",
   "version": "3.11.11"
  }
 },
 "nbformat": 4,
 "nbformat_minor": 5
}
