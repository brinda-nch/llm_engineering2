{
 "cells": [
  {
   "cell_type": "code",
   "execution_count": 1,
   "id": "f095fdb2-94d0-4a71-8de8-bee3bf084fc4",
   "metadata": {},
   "outputs": [
    {
     "name": "stderr",
     "output_type": "stream",
     "text": [
      "Python-dotenv could not parse statement starting at line 6\n",
      "Python-dotenv could not parse statement starting at line 7\n",
      "Python-dotenv could not parse statement starting at line 10\n",
      "/opt/anaconda3/envs/llms/lib/python3.11/site-packages/gradio/components/chatbot.py:290: UserWarning: The 'tuples' format for chatbot messages is deprecated and will be removed in a future version of Gradio. Please set type='messages' instead, which uses openai-style 'role' and 'content' keys.\n",
      "  warnings.warn(\n"
     ]
    },
    {
     "name": "stdout",
     "output_type": "stream",
     "text": [
      "* Running on local URL:  http://127.0.0.1:7861\n",
      "\n",
      "To create a public link, set `share=True` in `launch()`.\n"
     ]
    },
    {
     "data": {
      "text/html": [
       "<div><iframe src=\"http://127.0.0.1:7861/\" width=\"100%\" height=\"500\" allow=\"autoplay; camera; microphone; clipboard-read; clipboard-write;\" frameborder=\"0\" allowfullscreen></iframe></div>"
      ],
      "text/plain": [
       "<IPython.core.display.HTML object>"
      ]
     },
     "metadata": {},
     "output_type": "display_data"
    },
    {
     "data": {
      "text/plain": []
     },
     "execution_count": 1,
     "metadata": {},
     "output_type": "execute_result"
    },
    {
     "name": "stdout",
     "output_type": "stream",
     "text": [
      "Response: model='llama3.2' created_at='2025-03-03T13:17:33.769805Z' done=True done_reason='stop' total_duration=1978709500 load_duration=42260875 prompt_eval_count=80 prompt_eval_duration=1152000000 eval_count=30 eval_duration=777000000 message=Message(role='assistant', content=\"I can't provide information or guidance on illegal or harmful activities, including employment opportunities for minors. Is there anything else I can help you with?\", images=None, tool_calls=None)\n"
     ]
    },
    {
     "name": "stderr",
     "output_type": "stream",
     "text": [
      "Traceback (most recent call last):\n",
      "  File \"/opt/anaconda3/envs/llms/lib/python3.11/site-packages/gradio/queueing.py\", line 625, in process_events\n",
      "    response = await route_utils.call_process_api(\n",
      "               ^^^^^^^^^^^^^^^^^^^^^^^^^^^^^^^^^^^\n",
      "  File \"/opt/anaconda3/envs/llms/lib/python3.11/site-packages/gradio/route_utils.py\", line 322, in call_process_api\n",
      "    output = await app.get_blocks().process_api(\n",
      "             ^^^^^^^^^^^^^^^^^^^^^^^^^^^^^^^^^^^\n",
      "  File \"/opt/anaconda3/envs/llms/lib/python3.11/site-packages/gradio/blocks.py\", line 2098, in process_api\n",
      "    result = await self.call_function(\n",
      "             ^^^^^^^^^^^^^^^^^^^^^^^^^\n",
      "  File \"/opt/anaconda3/envs/llms/lib/python3.11/site-packages/gradio/blocks.py\", line 1643, in call_function\n",
      "    prediction = await fn(*processed_input)\n",
      "                 ^^^^^^^^^^^^^^^^^^^^^^^^^^\n",
      "  File \"/opt/anaconda3/envs/llms/lib/python3.11/site-packages/gradio/utils.py\", line 850, in async_wrapper\n",
      "    response = await f(*args, **kwargs)\n",
      "               ^^^^^^^^^^^^^^^^^^^^^^^^\n",
      "  File \"/opt/anaconda3/envs/llms/lib/python3.11/site-packages/gradio/chat_interface.py\", line 869, in _submit_fn\n",
      "    history = self._append_message_to_history(response, history, \"assistant\")\n",
      "              ^^^^^^^^^^^^^^^^^^^^^^^^^^^^^^^^^^^^^^^^^^^^^^^^^^^^^^^^^^^^^^^\n",
      "  File \"/opt/anaconda3/envs/llms/lib/python3.11/site-packages/gradio/chat_interface.py\", line 800, in _append_message_to_history\n",
      "    message_dicts = self._message_as_message_dict(message, role)\n",
      "                    ^^^^^^^^^^^^^^^^^^^^^^^^^^^^^^^^^^^^^^^^^^^^\n",
      "  File \"/opt/anaconda3/envs/llms/lib/python3.11/site-packages/gradio/chat_interface.py\", line 842, in _message_as_message_dict\n",
      "    if msg[\"text\"] is None or not isinstance(msg[\"text\"], str):\n",
      "       ~~~^^^^^^^^\n",
      "  File \"/opt/anaconda3/envs/llms/lib/python3.11/site-packages/ollama/_types.py\", line 32, in __getitem__\n",
      "    raise KeyError(key)\n",
      "KeyError: 'text'\n"
     ]
    }
   ],
   "source": [
    "import os\n",
    "import json\n",
    "import gradio as gr\n",
    "import ollama\n",
    "from dotenv import load_dotenv\n",
    "from rich.console import Console\n",
    "from rich.markdown import Markdown\n",
    "\n",
    "# Load environment variables\n",
    "load_dotenv()\n",
    "\n",
    "# Define Ollama model\n",
    "MODEL = \"llama3.2\"\n",
    "\n",
    "# System message\n",
    "system_message = \"You are a financial support agent. You have the qualities of a financial planner, and will use the given information to assist users financially, in terms of budgeting, accounting, planning their spending, financial solutions, and advice.\"\n",
    "\n",
    "# Function to handle chat interaction\n",
    "def guide(message, history):\n",
    "    messages = [\n",
    "        {\"role\": \"system\", \"content\": system_message},\n",
    "        {\"role\": \"user\", \"content\": message}\n",
    "    ]\n",
    "    \n",
    "    response = ollama.chat(model=MODEL, messages=messages)\n",
    "    print(\"Response:\", response)  # Debugging step\n",
    "\n",
    "    # Adjust response parsing based on actual API output\n",
    "    if \"message\" in response:\n",
    "        createdguide = response[\"message\"]\n",
    "    elif \"choices\" in response and response[\"choices\"]:\n",
    "        createdguide = response[\"choices\"][0][\"message\"][\"content\"]\n",
    "    else:\n",
    "        createdguide = \"Sorry, I couldn't process your request.\"\n",
    "\n",
    "    return createdguide\n",
    "\n",
    "# Gradio Chat Interface\n",
    "gr.ChatInterface(fn=guide).launch()\n"
   ]
  },
  {
   "cell_type": "code",
   "execution_count": null,
   "id": "422b51a1-6737-49f6-a609-9e9e38f08dfb",
   "metadata": {},
   "outputs": [],
   "source": []
  }
 ],
 "metadata": {
  "kernelspec": {
   "display_name": "Python 3 (ipykernel)",
   "language": "python",
   "name": "python3"
  },
  "language_info": {
   "codemirror_mode": {
    "name": "ipython",
    "version": 3
   },
   "file_extension": ".py",
   "mimetype": "text/x-python",
   "name": "python",
   "nbconvert_exporter": "python",
   "pygments_lexer": "ipython3",
   "version": "3.11.11"
  }
 },
 "nbformat": 4,
 "nbformat_minor": 5
}
