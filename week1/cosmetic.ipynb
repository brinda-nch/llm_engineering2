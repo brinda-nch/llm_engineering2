{
 "cells": [
  {
   "cell_type": "code",
   "execution_count": 2,
   "id": "b5b0c426-5e82-458d-b159-e5656a2095dc",
   "metadata": {},
   "outputs": [
    {
     "name": "stderr",
     "output_type": "stream",
     "text": [
      "Python-dotenv could not parse statement starting at line 6\n",
      "Python-dotenv could not parse statement starting at line 7\n",
      "Python-dotenv could not parse statement starting at line 10\n"
     ]
    },
    {
     "name": "stdout",
     "output_type": "stream",
     "text": [
      "* Running on local URL:  http://127.0.0.1:7891\n",
      "\n",
      "To create a public link, set `share=True` in `launch()`.\n"
     ]
    },
    {
     "data": {
      "text/html": [
       "<div><iframe src=\"http://127.0.0.1:7891/\" width=\"100%\" height=\"500\" allow=\"autoplay; camera; microphone; clipboard-read; clipboard-write;\" frameborder=\"0\" allowfullscreen></iframe></div>"
      ],
      "text/plain": [
       "<IPython.core.display.HTML object>"
      ]
     },
     "metadata": {},
     "output_type": "display_data"
    },
    {
     "data": {
      "text/plain": []
     },
     "execution_count": 2,
     "metadata": {},
     "output_type": "execute_result"
    }
   ],
   "source": [
    "\n",
    "import dotenv\n",
    "import gradio as gr\n",
    "import json\n",
    "from dotenv import load_dotenv\n",
    "import os\n",
    "import openai\n",
    "from openai import OpenAI\n",
    "import rich\n",
    "from rich.console import Console\n",
    "from rich.markdown import Markdown\n",
    "\n",
    "load_dotenv()\n",
    "\n",
    "api_key=os.getenv(\"OPENAI_API_KEY\")\n",
    "sguide=openai.OpenAI(api_key=api_key)\n",
    "\n",
    "MODEL = \"gpt-4o-mini\"\n",
    "openai = OpenAI()\n",
    "\n",
    "system_message=\"You are a beauty assistant. You have generational fashion knowledge sense, know pinterestworthy and trending tiktok beauty trends, curating good makeup products and advice for people of all skin colors and good outfits for people wiht all body types. You are also good at skincare, haircare, and bodycare.\"\n",
    "\n",
    "def guide(message,history):\n",
    "    messages= [{\"role\":\"system\",\"content\":system_message},{\"role\":\"user\",\"content\":message}]\n",
    "    response = openai.chat.completions.create(model=MODEL, messages=messages)\n",
    "    createdguide=response.choices[0].message.content\n",
    "    return createdguide\n",
    "\n",
    "gr.ChatInterface(fn=guide,type=\"messages\").launch()\n"
   ]
  },
  {
   "cell_type": "code",
   "execution_count": null,
   "id": "14a13e9a-7ddb-4040-95a0-7df7837ed9ca",
   "metadata": {},
   "outputs": [],
   "source": []
  }
 ],
 "metadata": {
  "kernelspec": {
   "display_name": "Python 3 (ipykernel)",
   "language": "python",
   "name": "python3"
  },
  "language_info": {
   "codemirror_mode": {
    "name": "ipython",
    "version": 3
   },
   "file_extension": ".py",
   "mimetype": "text/x-python",
   "name": "python",
   "nbconvert_exporter": "python",
   "pygments_lexer": "ipython3",
   "version": "3.11.11"
  }
 },
 "nbformat": 4,
 "nbformat_minor": 5
}
