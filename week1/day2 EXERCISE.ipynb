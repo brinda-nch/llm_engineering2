{
 "cells": [
  {
   "cell_type": "markdown",
   "id": "d15d8294-3328-4e07-ad16-8a03e9bbfdb9",
   "metadata": {},
   "source": [
    "# Welcome to your first assignment!\n",
    "\n",
    "Instructions are below. Please give this a try, and look in the solutions folder if you get stuck (or feel free to ask me!)"
   ]
  },
  {
   "cell_type": "markdown",
   "id": "ada885d9-4d42-4d9b-97f0-74fbbbfe93a9",
   "metadata": {},
   "source": [
    "<table style=\"margin: 0; text-align: left;\">\n",
    "    <tr>\n",
    "        <td style=\"width: 150px; height: 150px; vertical-align: middle;\">\n",
    "            <img src=\"../resources.jpg\" width=\"150\" height=\"150\" style=\"display: block;\" />\n",
    "        </td>\n",
    "        <td>\n",
    "            <h2 style=\"color:#f71;\">Just before we get to the assignment --</h2>\n",
    "            <span style=\"color:#f71;\">I thought I'd take a second to point you at this page of useful resources for the course. This includes links to all the slides.<br/>\n",
    "            <a href=\"https://edwarddonner.com/2024/11/13/llm-engineering-resources/\">https://edwarddonner.com/2024/11/13/llm-engineering-resources/</a><br/>\n",
    "            Please keep this bookmarked, and I'll continue to add more useful links there over time.\n",
    "            </span>\n",
    "        </td>\n",
    "    </tr>\n",
    "</table>"
   ]
  },
  {
   "cell_type": "markdown",
   "id": "6e9fa1fc-eac5-4d1d-9be4-541b3f2b3458",
   "metadata": {},
   "source": [
    "# HOMEWORK EXERCISE ASSIGNMENT\n",
    "\n",
    "Upgrade the day 1 project to summarize a webpage to use an Open Source model running locally via Ollama rather than OpenAI\n",
    "\n",
    "You'll be able to use this technique for all subsequent projects if you'd prefer not to use paid APIs.\n",
    "\n",
    "**Benefits:**\n",
    "1. No API charges - open-source\n",
    "2. Data doesn't leave your box\n",
    "\n",
    "**Disadvantages:**\n",
    "1. Significantly less power than Frontier Model\n",
    "\n",
    "## Recap on installation of Ollama\n",
    "\n",
    "Simply visit [ollama.com](https://ollama.com) and install!\n",
    "\n",
    "Once complete, the ollama server should already be running locally.  \n",
    "If you visit:  \n",
    "[http://localhost:11434/](http://localhost:11434/)\n",
    "\n",
    "You should see the message `Ollama is running`.  \n",
    "\n",
    "If not, bring up a new Terminal (Mac) or Powershell (Windows) and enter `ollama serve`  \n",
    "And in another Terminal (Mac) or Powershell (Windows), enter `ollama pull llama3.2`  \n",
    "Then try [http://localhost:11434/](http://localhost:11434/) again.\n",
    "\n",
    "If Ollama is slow on your machine, try using `llama3.2:1b` as an alternative. Run `ollama pull llama3.2:1b` from a Terminal or Powershell, and change the code below from `MODEL = \"llama3.2\"` to `MODEL = \"llama3.2:1b\"`"
   ]
  },
  {
   "cell_type": "code",
   "execution_count": 1,
   "id": "4e2a9393-7767-488e-a8bf-27c12dca35bd",
   "metadata": {},
   "outputs": [],
   "source": [
    "# imports\n",
    "\n",
    "import requests\n",
    "from bs4 import BeautifulSoup\n",
    "from IPython.display import Markdown, display"
   ]
  },
  {
   "cell_type": "code",
   "execution_count": 2,
   "id": "29ddd15d-a3c5-4f4e-a678-873f56162724",
   "metadata": {},
   "outputs": [],
   "source": [
    "# Constants\n",
    "\n",
    "OLLAMA_API = \"http://localhost:11434/api/chat\"\n",
    "HEADERS = {\"Content-Type\": \"application/json\"}\n",
    "MODEL = \"llama3.2\""
   ]
  },
  {
   "cell_type": "code",
   "execution_count": 3,
   "id": "dac0a679-599c-441f-9bf2-ddc73d35b940",
   "metadata": {},
   "outputs": [],
   "source": [
    "# Create a messages list using the same format that we used for OpenAI\n",
    "\n",
    "messages = [\n",
    "    {\"role\": \"user\", \"content\": \"Describe some of the business applications of Generative AI\"}\n",
    "]"
   ]
  },
  {
   "cell_type": "code",
   "execution_count": 4,
   "id": "7bb9c624-14f0-4945-a719-8ddb64f66f47",
   "metadata": {},
   "outputs": [],
   "source": [
    "payload = {\n",
    "        \"model\": MODEL,\n",
    "        \"messages\": messages,\n",
    "        \"stream\": False\n",
    "    }"
   ]
  },
  {
   "cell_type": "code",
   "execution_count": 6,
   "id": "479ff514-e8bd-4985-a572-2ea28bb4fa40",
   "metadata": {},
   "outputs": [
    {
     "name": "stdout",
     "output_type": "stream",
     "text": [
      "\u001b[?25lpulling manifest ⠋ \u001b[?25h\u001b[?25l\u001b[2K\u001b[1Gpulling manifest ⠙ \u001b[?25h\u001b[?25l\u001b[2K\u001b[1Gpulling manifest ⠹ \u001b[?25h\u001b[?25l\u001b[2K\u001b[1Gpulling manifest ⠸ \u001b[?25h\u001b[?25l\u001b[2K\u001b[1Gpulling manifest ⠼ \u001b[?25h\u001b[?25l\u001b[2K\u001b[1Gpulling manifest \n",
      "pulling dde5aa3fc5ff... 100% ▕████████████████▏ 2.0 GB                         \n",
      "pulling 966de95ca8a6... 100% ▕████████████████▏ 1.4 KB                         \n",
      "pulling fcc5a6bec9da... 100% ▕████████████████▏ 7.7 KB                         \n",
      "pulling a70ff7e570d9... 100% ▕████████████████▏ 6.0 KB                         \n",
      "pulling 56bb8bd477a5... 100% ▕████████████████▏   96 B                         \n",
      "pulling 34bb5ab01051... 100% ▕████████████████▏  561 B                         \n",
      "verifying sha256 digest \n",
      "writing manifest \n",
      "success \u001b[?25h\n"
     ]
    }
   ],
   "source": [
    "# Let's just make sure the model is loaded\n",
    "\n",
    "!ollama pull llama3.2"
   ]
  },
  {
   "cell_type": "code",
   "execution_count": 7,
   "id": "42b9f644-522d-4e05-a691-56e7658c0ea9",
   "metadata": {},
   "outputs": [
    {
     "name": "stdout",
     "output_type": "stream",
     "text": [
      "Generative AI has numerous business applications across various industries. Here are some examples:\n",
      "\n",
      "1. **Content Generation**: Generative AI can create high-quality, personalized content such as blog posts, social media posts, product descriptions, and more. This automates content creation tasks, freeing up time for humans to focus on higher-level creative work.\n",
      "2. **Product Design**: Generative AI can generate 3D models, product designs, and packaging concepts. This enables companies to reduce design costs, improve product quality, and accelerate the product development process.\n",
      "3. **Marketing Automation**: Generative AI can create personalized marketing campaigns, including email templates, ads, and social media posts. It can also predict customer behavior and optimize marketing strategies.\n",
      "4. **Data Analysis**: Generative AI can analyze large datasets, identify patterns, and generate insights. This helps businesses make data-driven decisions, detect anomalies, and predict future trends.\n",
      "5. **Chatbots and Virtual Assistants**: Generative AI can power chatbots and virtual assistants that provide customer support, answer frequently asked questions, and route complex issues to human representatives.\n",
      "6. **Image and Video Generation**: Generative AI can create realistic images and videos for applications such as advertising, entertainment, and education. This enables businesses to create engaging visual content without requiring extensive design expertise.\n",
      "7. **Music and Audio Generation**: Generative AI can compose music, generate sound effects, and create audio clips for various applications such as film, TV, and video games.\n",
      "8. **Language Translation**: Generative AI can translate text, speech, and even entire conversations in real-time. This enables businesses to expand their global reach and communicate with customers more effectively.\n",
      "9. **Predictive Maintenance**: Generative AI can analyze sensor data from equipment and predict when maintenance is required. This helps reduce downtime, extends equipment lifespan, and improves overall efficiency.\n",
      "10. **Design for Accessibility**: Generative AI can generate accessible designs for websites, applications, and products. This enables businesses to create inclusive experiences for customers with disabilities.\n",
      "11. **Supply Chain Optimization**: Generative AI can analyze supply chain data, predict demand, and optimize logistics. This helps businesses reduce costs, improve delivery times, and enhance overall supply chain efficiency.\n",
      "12. **Financial Analysis**: Generative AI can analyze financial data, identify trends, and generate insights. This enables businesses to make informed investment decisions, detect potential risks, and optimize their financial strategies.\n",
      "13. **Cybersecurity Threat Detection**: Generative AI can analyze network traffic patterns and detect potential cyber threats in real-time. This helps businesses prevent security breaches, protect sensitive data, and respond quickly to incidents.\n",
      "14. **Medical Imaging Analysis**: Generative AI can analyze medical images, such as X-rays and MRIs, to help diagnose diseases, identify anomalies, and develop personalized treatment plans.\n",
      "15. **Virtual Product Development**: Generative AI can create digital twins of products, enabling businesses to simulate performance, test design changes, and optimize product development.\n",
      "\n",
      "These are just a few examples of the many business applications of Generative AI. As the technology continues to evolve, we can expect to see even more innovative use cases across various industries.\n"
     ]
    }
   ],
   "source": [
    "# If this doesn't work for any reason, try the 2 versions in the following cells\n",
    "# And double check the instructions in the 'Recap on installation of Ollama' at the top of this lab\n",
    "# And if none of that works - contact me!\n",
    "\n",
    "response = requests.post(OLLAMA_API, json=payload, headers=HEADERS)\n",
    "print(response.json()['message']['content'])"
   ]
  },
  {
   "cell_type": "markdown",
   "id": "6a021f13-d6a1-4b96-8e18-4eae49d876fe",
   "metadata": {},
   "source": [
    "# Introducing the ollama package\n",
    "\n",
    "And now we'll do the same thing, but using the elegant ollama python package instead of a direct HTTP call.\n",
    "\n",
    "Under the hood, it's making the same call as above to the ollama server running at localhost:11434"
   ]
  },
  {
   "cell_type": "code",
   "execution_count": 8,
   "id": "7745b9c4-57dc-4867-9180-61fa5db55eb8",
   "metadata": {},
   "outputs": [
    {
     "name": "stdout",
     "output_type": "stream",
     "text": [
      "Generative AI has numerous business applications across various industries, including:\n",
      "\n",
      "1. **Content Creation**: Generative AI can be used to create personalized content such as articles, social media posts, and videos. For example, AI-powered tools like WordLift and Content Blossom generate high-quality content for businesses.\n",
      "2. **Product Design**: Generative AI can be used to design new products, such as 3D models, logos, and packaging designs. Companies like Adidas and Mercedes-Benz use generative AI to design innovative products.\n",
      "3. **Marketing and Advertising**: Generative AI can be used to generate personalized marketing messages, product recommendations, and social media ads. For example, AI-powered tools like AdEspresso and WordLift generate ad copy and optimize ad performance.\n",
      "4. **Customer Service**: Generative AI can be used to create chatbots that provide 24/7 customer support. Companies like IBM and Microsoft use generative AI to power their chatbots.\n",
      "5. **Data Analysis**: Generative AI can be used to analyze large datasets and identify patterns, trends, and insights. For example, AI-powered tools like Tableau and Power BI use generative AI to analyze data and provide actionable insights.\n",
      "6. **Predictive Maintenance**: Generative AI can be used to predict equipment failures and optimize maintenance schedules. Companies like GE Appliances and Siemens use generative AI to predict maintenance needs.\n",
      "7. **Financial Modeling**: Generative AI can be used to create financial models, forecast revenue, and predict market trends. For example, AI-powered tools like Excel and Google Sheets use generative AI to analyze financial data.\n",
      "8. **Supply Chain Optimization**: Generative AI can be used to optimize supply chain operations, such as inventory management and logistics. Companies like Amazon and Walmart use generative AI to optimize their supply chains.\n",
      "9. **Human Resources**: Generative AI can be used to create personalized employee onboarding experiences, generate job descriptions, and provide recruitment suggestions. For example, AI-powered tools like Glassdoor and LinkedIn use generative AI to analyze HR data.\n",
      "10. **Artificial Intelligence Research**: Generative AI can be used to research new AI algorithms, test new approaches, and analyze existing AI models.\n",
      "\n",
      "Some specific business applications of Generative AI include:\n",
      "\n",
      "* Chatbots for customer support\n",
      "* Personalized product recommendations\n",
      "* Automated content generation\n",
      "* Predictive maintenance and equipment failure prediction\n",
      "* Financial forecasting and market analysis\n",
      "* Supply chain optimization and logistics planning\n",
      "* Human resources management and employee onboarding\n",
      "* Marketing message generation and ad copywriting\n",
      "\n",
      "These are just a few examples of the many business applications of Generative AI. As the technology continues to evolve, we can expect to see even more innovative uses across various industries.\n"
     ]
    }
   ],
   "source": [
    "import ollama\n",
    "\n",
    "response = ollama.chat(model=MODEL, messages=messages)\n",
    "print(response['message']['content'])"
   ]
  },
  {
   "cell_type": "markdown",
   "id": "a4704e10-f5fb-4c15-a935-f046c06fb13d",
   "metadata": {},
   "source": [
    "## Alternative approach - using OpenAI python library to connect to Ollama"
   ]
  },
  {
   "cell_type": "code",
   "execution_count": 9,
   "id": "23057e00-b6fc-4678-93a9-6b31cb704bff",
   "metadata": {},
   "outputs": [
    {
     "name": "stdout",
     "output_type": "stream",
     "text": [
      "Generative AI has numerous business applications across various industries, including:\n",
      "\n",
      "1. **Content Creation**: Generative AI can generate high-quality, personalized content such as:\n",
      " * Blog posts and articles\n",
      " * Social media posts and ads\n",
      " * Product descriptions and catalogs\n",
      " * Marketing materials (e.g., brochures, flyers)\n",
      "2. **Graphic Design and Visualization**:\n",
      " * Logo design and branding\n",
      " * Infographics and data visualization\n",
      " * Images and videos for marketing and advertising\n",
      "3. **Product Development and Engineering**:\n",
      " * Virtual product prototypes and simulations\n",
      " * Design for manufacturability and assembly (DFMA)\n",
      " * Predictive maintenance and repair suggestions\n",
      "4. **Customer Service and Support**:\n",
      " * Chatbots and virtual assistants\n",
      " * Personalized customer service responses\n",
      " * Sentiment analysis and emotional intelligence\n",
      "5. **Data Analysis and Insights**:\n",
      " * Data visualization and exploration\n",
      " * Anomaly detection and predictive analytics\n",
      " * Text generation for data description and documentation\n",
      "6. **Marketing and Sales**:\n",
      " * Personalized email campaigns and sales messages\n",
      " * Product recommendation engines\n",
      " * Social media bot management and engagement\n",
      "7. **User Experience (UX) Design**:\n",
      " * User personas and journey mapping\n",
      " * Wireframing and mockup generation\n",
      " * Accessibility auditing and feedback analysis\n",
      "8. **Supply Chain Management**: Generative AI can help optimize supply chain operations by:\n",
      " * Predicting demand and inventory needs\n",
      " * Identifying potential bottlenecks and inefficiencies\n",
      " * Generating optimized shipping routes and schedules\n",
      "9. **Finance and Accounting**:\n",
      " * Automated data entry and accounting\n",
      " * Financial forecasting and predictions\n",
      " * Risk analysis and compliance monitoring\n",
      "10. **Education and Learning**: Generative AI can help create personalized learning experiences, including:\n",
      " * Adaptive lesson plans and curriculum\n",
      " * Real-time assessment and feedback\n",
      " * Textbook and course material generation\n",
      "\n",
      "These applications are continually expanding as Generative AI continues to evolve, making businesses more efficient, creative, and competitive in various markets.\n"
     ]
    }
   ],
   "source": [
    "# There's actually an alternative approach that some people might prefer\n",
    "# You can use the OpenAI client python library to call Ollama:\n",
    "\n",
    "from openai import OpenAI\n",
    "ollama_via_openai = OpenAI(base_url='http://localhost:11434/v1', api_key='ollama')\n",
    "\n",
    "response = ollama_via_openai.chat.completions.create(\n",
    "    model=MODEL,\n",
    "    messages=messages\n",
    ")\n",
    "\n",
    "print(response.choices[0].message.content)"
   ]
  },
  {
   "cell_type": "markdown",
   "id": "1622d9bb-5c68-4d4e-9ca4-b492c751f898",
   "metadata": {},
   "source": [
    "# NOW the exercise for you\n",
    "\n",
    "Take the code from day1 and incorporate it here, to build a website summarizer that uses Llama 3.2 running locally instead of OpenAI; use either of the above approaches."
   ]
  },
  {
   "cell_type": "code",
   "execution_count": null,
   "id": "402d5686-4e76-4110-b65a-b3906c35c0a4",
   "metadata": {},
   "outputs": [],
   "source": []
  }
 ],
 "metadata": {
  "kernelspec": {
   "display_name": "Python 3 (ipykernel)",
   "language": "python",
   "name": "python3"
  },
  "language_info": {
   "codemirror_mode": {
    "name": "ipython",
    "version": 3
   },
   "file_extension": ".py",
   "mimetype": "text/x-python",
   "name": "python",
   "nbconvert_exporter": "python",
   "pygments_lexer": "ipython3",
   "version": "3.11.11"
  }
 },
 "nbformat": 4,
 "nbformat_minor": 5
}
