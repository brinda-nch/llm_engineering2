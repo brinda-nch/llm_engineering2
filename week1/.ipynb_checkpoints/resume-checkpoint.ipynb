{
 "cells": [
  {
   "cell_type": "code",
   "execution_count": 3,
   "id": "b6ebea15-9799-40f9-8b2d-17b883de3c4d",
   "metadata": {},
   "outputs": [
    {
     "name": "stderr",
     "output_type": "stream",
     "text": [
      "Python-dotenv could not parse statement starting at line 6\n",
      "Python-dotenv could not parse statement starting at line 7\n",
      "Python-dotenv could not parse statement starting at line 10\n"
     ]
    },
    {
     "name": "stdout",
     "output_type": "stream",
     "text": [
      "* Running on local URL:  http://127.0.0.1:7864\n",
      "\n",
      "To create a public link, set `share=True` in `launch()`.\n"
     ]
    },
    {
     "data": {
      "text/html": [
       "<div><iframe src=\"http://127.0.0.1:7864/\" width=\"100%\" height=\"500\" allow=\"autoplay; camera; microphone; clipboard-read; clipboard-write;\" frameborder=\"0\" allowfullscreen></iframe></div>"
      ],
      "text/plain": [
       "<IPython.core.display.HTML object>"
      ]
     },
     "metadata": {},
     "output_type": "display_data"
    },
    {
     "data": {
      "text/plain": []
     },
     "execution_count": 3,
     "metadata": {},
     "output_type": "execute_result"
    }
   ],
   "source": [
    "import os\n",
    "import openai\n",
    "from dotenv import load_dotenv\n",
    "import gradio as gr\n",
    "\n",
    "# Load environment variables from a .env file\n",
    "load_dotenv()\n",
    "\n",
    "# Retrieve the OpenAI API key from environment variables\n",
    "api_key = os.getenv(\"OPENAI_API_KEY\")\n",
    "if not api_key:\n",
    "    raise ValueError(\"OPENAI_API_KEY not found. Please set it in your environment variables.\")\n",
    "\n",
    "# Initialize the OpenAI client using the provided API key\n",
    "client = openai.OpenAI(api_key=api_key)\n",
    "\n",
    "# Define the system prompt to guide the resume generation\n",
    "system_prompt = (\n",
    "    \"You are a professional resume creation tool. Format the resume with proper headers, \"\n",
    "    \"bold titles, bullet points, and section spacing.\"\n",
    ")\n",
    "\n",
    "def generate_resume(user_input):\n",
    "    \"\"\"\n",
    "    This function creates a message list with the system prompt and the user's resume details,\n",
    "    calls the OpenAI API, and returns the generated resume.\n",
    "    \"\"\"\n",
    "    messages = [\n",
    "        {\"role\": \"system\", \"content\": system_prompt},\n",
    "        {\"role\": \"user\", \"content\": user_input},\n",
    "    ]\n",
    "    \n",
    "    # Call the OpenAI Chat API\n",
    "    response = client.chat.completions.create(\n",
    "        model=\"gpt-4\",\n",
    "        messages=messages\n",
    "    )\n",
    "    \n",
    "    # Extract the generated resume from the response\n",
    "    generated_resume = response.choices[0].message.content\n",
    "    return generated_resume\n",
    "\n",
    "# Create a Gradio interface with a textbox input and a Markdown output\n",
    "iface = gr.Interface(\n",
    "    fn=generate_resume,\n",
    "    inputs=gr.Textbox(\n",
    "        lines=8,\n",
    "        placeholder=\"Enter your resume details here...\",\n",
    "        label=\"Resume Details\"\n",
    "    ),\n",
    "    outputs=gr.Markdown(label=\"Generated Resume\"),\n",
    "    title=\"Resume Generator\",\n",
    "    description=\"Enter your resume details and let the AI generate a professionally formatted resume.\"\n",
    ")\n",
    "\n",
    "iface.launch()\n"
   ]
  },
  {
   "cell_type": "code",
   "execution_count": null,
   "id": "e3be173b-ebe7-4a4d-9a44-1967537d31fa",
   "metadata": {},
   "outputs": [],
   "source": []
  }
 ],
 "metadata": {
  "kernelspec": {
   "display_name": "Python 3 (ipykernel)",
   "language": "python",
   "name": "python3"
  },
  "language_info": {
   "codemirror_mode": {
    "name": "ipython",
    "version": 3
   },
   "file_extension": ".py",
   "mimetype": "text/x-python",
   "name": "python",
   "nbconvert_exporter": "python",
   "pygments_lexer": "ipython3",
   "version": "3.11.11"
  }
 },
 "nbformat": 4,
 "nbformat_minor": 5
}
