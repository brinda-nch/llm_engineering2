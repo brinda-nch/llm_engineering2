{
 "cells": [
  {
   "cell_type": "code",
   "execution_count": 2,
   "id": "884006e8-5880-4d65-853f-941e4ca43561",
   "metadata": {},
   "outputs": [
    {
     "name": "stderr",
     "output_type": "stream",
     "text": [
      "Python-dotenv could not parse statement starting at line 6\n",
      "Python-dotenv could not parse statement starting at line 7\n",
      "Python-dotenv could not parse statement starting at line 10\n",
      "Python-dotenv could not parse statement starting at line 6\n",
      "Python-dotenv could not parse statement starting at line 7\n",
      "Python-dotenv could not parse statement starting at line 10\n"
     ]
    },
    {
     "name": "stdout",
     "output_type": "stream",
     "text": [
      "* Running on local URL:  http://127.0.0.1:7860\n",
      "\n",
      "To create a public link, set `share=True` in `launch()`.\n"
     ]
    },
    {
     "data": {
      "text/html": [
       "<div><iframe src=\"http://127.0.0.1:7860/\" width=\"100%\" height=\"500\" allow=\"autoplay; camera; microphone; clipboard-read; clipboard-write;\" frameborder=\"0\" allowfullscreen></iframe></div>"
      ],
      "text/plain": [
       "<IPython.core.display.HTML object>"
      ]
     },
     "metadata": {},
     "output_type": "display_data"
    },
    {
     "data": {
      "text/plain": []
     },
     "execution_count": 2,
     "metadata": {},
     "output_type": "execute_result"
    }
   ],
   "source": [
    "# Import necessary libraries\n",
    "import os\n",
    "import gradio as gr\n",
    "import dotenv\n",
    "import json\n",
    "from dotenv import load_dotenv\n",
    "import rich\n",
    "from rich.console import Console\n",
    "from rich.markdown import Markdown\n",
    "import openai\n",
    "import gradio as gr \n",
    "from openai import OpenAI\n",
    "console=Console()\n",
    "load_dotenv()\n",
    "\n",
    "# Load API key from environment variables\n",
    "load_dotenv()\n",
    "api_key = os.getenv(\"OPENAI_API_KEY\")\n",
    "# Set up OpenAI client\n",
    "health = openai.OpenAI(api_key=api_key)\n",
    "\n",
    "# Define system prompt\n",
    "system_message = (\n",
    "    \"You are an AI healthcare agent. Someone will tell you how they feel/symptoms, \"\n",
    "    \"and you will come up with possible health issues/diagnosis. If someone asks for \"\n",
    "    \"information on a specific condition, you will give them symptoms, diagnosis methods, \"\n",
    "    \"and possible treatments. Use factual information and medical language but make it \"\n",
    "    \"understandable for a general audience.\"\n",
    ")\n",
    "\n",
    "MODEL = \"gpt-4o-mini\"\n",
    "openai = OpenAI()\n",
    "\n",
    "def chat(message,history):\n",
    "    messages=[{\"role\":\"system\",\"content\":system_message},{\"role\":\"user\",\"content\":message}]\n",
    "    response=openai.chat.completions.create(model=MODEL,messages=messages)\n",
    "    diagnosis = response.choices[0].message.content\n",
    "    return diagnosis\n",
    "    \n",
    "gr.ChatInterface(fn=chat, type=\"messages\").launch()"
   ]
  },
  {
   "cell_type": "code",
   "execution_count": null,
   "id": "7b8afcf9-3d1f-4e11-b908-8b725e23bcc3",
   "metadata": {},
   "outputs": [],
   "source": []
  }
 ],
 "metadata": {
  "kernelspec": {
   "display_name": "Python 3 (ipykernel)",
   "language": "python",
   "name": "python3"
  },
  "language_info": {
   "codemirror_mode": {
    "name": "ipython",
    "version": 3
   },
   "file_extension": ".py",
   "mimetype": "text/x-python",
   "name": "python",
   "nbconvert_exporter": "python",
   "pygments_lexer": "ipython3",
   "version": "3.11.11"
  }
 },
 "nbformat": 4,
 "nbformat_minor": 5
}
