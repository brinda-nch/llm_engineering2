{
 "cells": [
  {
   "cell_type": "code",
   "execution_count": null,
   "id": "ec7af1e0-3226-4086-93e2-89ec097fabf9",
   "metadata": {},
   "outputs": [],
   "source": [
    " def display_summary(url):\n",
    "        summary = summarize(url)\n",
    "        display(Markdown(summary))  # Correct usage of Markdown"
   ]
  },
  {
   "cell_type": "code",
   "execution_count": null,
   "id": "31ca3d30-8178-4078-8a9f-7a91dd30b076",
   "metadata": {},
   "outputs": [],
   "source": [
    "import requests\n",
    "import openai\n",
    "import os\n",
    "from bs4 import BeautifulSoup\n",
    "from IPython.display import display, Markdown\n",
    "from dotenv import load_dotenv  # Load environment variables\n",
    "import json\n",
    "import gradio as gr\n",
    "from openai import OpenAI\n",
    "# Load environment variables\n",
    "load_dotenv()\n",
    "\n",
    "# Initialize OpenAI API client with API key from environment variable\n",
    "api_key = os.getenv(\"OPENAI_API_KEY\")  # Use environment variable\n",
    "\n",
    "# Headers for web scraping\n",
    "headers = {\n",
    "    \"User-Agent\": \"Mozilla/5.0 (Windows NT 10.0; Win64; x64) AppleWebKit/537.36 (KHTML, like Gecko) Chrome/117.0.0.0 Safari/537.36\"\n",
    "}\n",
    "\n",
    "system_prompt = \"You are an assistant that analyzes the contents of a website and provides a short summary, ignoring text that might be navigation related. Respond in markdown.\"\n",
    "\n",
    "# Website Class\n",
    "class Website:\n",
    "    def __init__(self, url):\n",
    "        self.url = url\n",
    "        self.title = \"No title found\"\n",
    "        self.text = \"No content available\"\n",
    "        try:\n",
    "            print(f\"Fetching website: {url}\")\n",
    "            response = requests.get(url, headers=headers, timeout=10)\n",
    "            response.raise_for_status()\n",
    "            \n",
    "            soup = BeautifulSoup(response.content, 'html.parser')\n",
    "            self.title = soup.title.string if soup.title else \"No title found\"\n",
    "\n",
    "            if soup.body:\n",
    "                for irrelevant in soup.body([\"script\", \"style\", \"img\", \"input\"]):\n",
    "                    irrelevant.decompose()\n",
    "                self.text = soup.body.get_text(separator=\"\\n\", strip=True)\n",
    "        except requests.exceptions.RequestException as e:\n",
    "            print(f\"Error fetching {url}: {e}\")\n",
    "            self.title = \"Error\"\n",
    "            self.text = \"\"\n",
    "        # Function to generate messages for OpenAI API\n",
    "    def messages_for(website):\n",
    "        message=self.text\n",
    "        return [\n",
    "            {\"role\": \"system\", \"content\": system_prompt},\n",
    "            {\"role\": \"user\", \"content\": message}\n",
    "        ]    \n",
    "\n",
    "    # Function to call OpenAI API and summarize the webpage\n",
    "    def chat_interface(url):\n",
    "        website = Website(url)  # Create Website object\n",
    "        response = openai.ChatCompletion.create(\n",
    "            model=\"gpt-4o-mini\",\n",
    "            messages=website.messages_for()\n",
    "        )\n",
    "        return response.choices[0].message.content  # Extract response content\n",
    "   \n",
    "gr.ChatInterface(fn=chat_interface, inputs=\"text\", outputs=\"text\").launch()"
   ]
  }
 ],
 "metadata": {
  "kernelspec": {
   "display_name": "Python 3 (ipykernel)",
   "language": "python",
   "name": "python3"
  },
  "language_info": {
   "codemirror_mode": {
    "name": "ipython",
    "version": 3
   },
   "file_extension": ".py",
   "mimetype": "text/x-python",
   "name": "python",
   "nbconvert_exporter": "python",
   "pygments_lexer": "ipython3",
   "version": "3.11.11"
  }
 },
 "nbformat": 4,
 "nbformat_minor": 5
}
